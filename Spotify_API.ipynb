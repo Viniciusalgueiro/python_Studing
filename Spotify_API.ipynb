{
  "nbformat": 4,
  "nbformat_minor": 0,
  "metadata": {
    "colab": {
      "name": "Spotify_API.ipynb",
      "provenance": [],
      "authorship_tag": "ABX9TyMtlBh1WK7dJyfFqoQub484",
      "include_colab_link": true
    },
    "kernelspec": {
      "name": "python3",
      "display_name": "Python 3"
    },
    "language_info": {
      "name": "python"
    }
  },
  "cells": [
    {
      "cell_type": "markdown",
      "metadata": {
        "id": "view-in-github",
        "colab_type": "text"
      },
      "source": [
        "<a href=\"https://colab.research.google.com/github/Viniciusalgueiro/python_Studing/blob/main/Spotify_API.ipynb\" target=\"_parent\"><img src=\"https://colab.research.google.com/assets/colab-badge.svg\" alt=\"Open In Colab\"/></a>"
      ]
    },
    {
      "cell_type": "code",
      "source": [
        "!pip install requests"
      ],
      "metadata": {
        "colab": {
          "base_uri": "https://localhost:8080/"
        },
        "id": "0chUootCTYC_",
        "outputId": "e97108e0-aced-471a-dc39-55696cf8c055"
      },
      "execution_count": 1,
      "outputs": [
        {
          "output_type": "stream",
          "name": "stdout",
          "text": [
            "Requirement already satisfied: requests in /usr/local/lib/python3.7/dist-packages (2.23.0)\n",
            "Requirement already satisfied: certifi>=2017.4.17 in /usr/local/lib/python3.7/dist-packages (from requests) (2021.10.8)\n",
            "Requirement already satisfied: urllib3!=1.25.0,!=1.25.1,<1.26,>=1.21.1 in /usr/local/lib/python3.7/dist-packages (from requests) (1.24.3)\n",
            "Requirement already satisfied: chardet<4,>=3.0.2 in /usr/local/lib/python3.7/dist-packages (from requests) (3.0.4)\n",
            "Requirement already satisfied: idna<3,>=2.5 in /usr/local/lib/python3.7/dist-packages (from requests) (2.10)\n"
          ]
        }
      ]
    },
    {
      "cell_type": "code",
      "source": [
        "import base64\n",
        "import requests"
      ],
      "metadata": {
        "id": "KqQVqCYjnF1m"
      },
      "execution_count": 2,
      "outputs": []
    },
    {
      "cell_type": "markdown",
      "source": [
        "# Auth\n"
      ],
      "metadata": {
        "id": "u7ZDq1tKS5sR"
      }
    },
    {
      "cell_type": "code",
      "execution_count": 3,
      "metadata": {
        "id": "cq0CJpkISQD2"
      },
      "outputs": [],
      "source": [
        "client_id = '4f19f59bc5d147dea9e9a654829ab68f'\n",
        "client_secret = '2fbb6f3bdc6146e9813231b491bdc4a4'"
      ]
    },
    {
      "cell_type": "code",
      "source": [
        "client_creds = f\"{client_id}:{client_secret}\""
      ],
      "metadata": {
        "id": "JhX6P85olHKO"
      },
      "execution_count": 4,
      "outputs": []
    },
    {
      "cell_type": "code",
      "source": [
        "client_creds_b64 = base64.b64encode(client_creds.encode())\n",
        "type(client_creds_b64)\n",
        "base64.b64decode(client_creds_b64)\n"
      ],
      "metadata": {
        "colab": {
          "base_uri": "https://localhost:8080/"
        },
        "id": "YivjLW5VnP6b",
        "outputId": "1c383f5d-84b3-4963-bc09-190f3025e641"
      },
      "execution_count": 5,
      "outputs": [
        {
          "output_type": "execute_result",
          "data": {
            "text/plain": [
              "b'4f19f59bc5d147dea9e9a654829ab68f:2fbb6f3bdc6146e9813231b491bdc4a4'"
            ]
          },
          "metadata": {},
          "execution_count": 5
        }
      ]
    },
    {
      "cell_type": "code",
      "source": [
        "token_url = \"https://accounts.spotify.com/api/token\"\n",
        "method = \"POST\"\n",
        "token_data = {\n",
        "    \"grant_type\": \"client_credentials\"\n",
        "}\n",
        "token_headers = {\n",
        "    \"Authorization\": f\"Basic {client_creds_b64.decode()}\" # <base64 encoded client_id:client_secret>\n",
        "}"
      ],
      "metadata": {
        "id": "Wv_tkTYtUXy_"
      },
      "execution_count": 6,
      "outputs": []
    },
    {
      "cell_type": "code",
      "source": [
        "req = requests.post(token_url, data=token_data, headers=token_headers)\n",
        "print(req.json())"
      ],
      "metadata": {
        "colab": {
          "base_uri": "https://localhost:8080/"
        },
        "id": "p3ZvRj_pnzbk",
        "outputId": "91288ff9-0544-4a18-ae9d-1cb5f0cb6b6a"
      },
      "execution_count": 7,
      "outputs": [
        {
          "output_type": "stream",
          "name": "stdout",
          "text": [
            "{'access_token': 'BQBAS-8LkQWDSx4ce_fOxFE2gcB5fphANwzFjHirzYCKwMki3zmvM6anBJcUfGT9gWttg0Ypc3FQvy9iVhw', 'token_type': 'Bearer', 'expires_in': 3600}\n"
          ]
        }
      ]
    }
  ]
}